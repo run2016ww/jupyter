{
 "cells": [
  {
   "cell_type": "code",
   "execution_count": 7,
   "metadata": {},
   "outputs": [
    {
     "name": "stdout",
     "output_type": "stream",
     "text": [
      "Default Mdoe: 小明 1995 年 毕业 于 北京 清华大学\n",
      "小 明 1995 年 毕业 于 北京 清华 清华大学 华大 大学\n",
      "小明 硕士 毕业 于 中国 科学 计算 科学计算 所 ， 后 在 日本 京都 大学 日本京都大学 深造\n"
     ]
    }
   ],
   "source": [
    "import sys\n",
    "import os\n",
    "import jieba\n",
    "seg_list = jieba.cut('小明1995年毕业于北京清华大学',cut_all = False)\n",
    "print('Default Mdoe:',' '.join(seg_list) )\n",
    "seg_list = jieba.cut('小明1995年毕业于北京清华大学',cut_all = True)\n",
    "print(' '.join(seg_list) )\n",
    "seg_list = jieba.cut_for_search('小明硕士毕业于中国科学计算所，后在日本京都大学深造')\n",
    "print(' '.join(seg_list) )"
   ]
  },
  {
   "cell_type": "code",
   "execution_count": null,
   "metadata": {},
   "outputs": [],
   "source": []
  }
 ],
 "metadata": {
  "kernelspec": {
   "display_name": "Python 3",
   "language": "python",
   "name": "python3"
  },
  "language_info": {
   "codemirror_mode": {
    "name": "ipython",
    "version": 3
   },
   "file_extension": ".py",
   "mimetype": "text/x-python",
   "name": "python",
   "nbconvert_exporter": "python",
   "pygments_lexer": "ipython3",
   "version": "3.7.0"
  }
 },
 "nbformat": 4,
 "nbformat_minor": 2
}
